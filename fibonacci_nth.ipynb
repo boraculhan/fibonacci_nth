{
 "cells": [
  {
   "cell_type": "markdown",
   "metadata": {},
   "source": [
    "\n",
    "# Fibonacci Sequence"
   ]
  },
  {
   "cell_type": "code",
   "execution_count": 31,
   "metadata": {},
   "outputs": [
    {
     "data": {
      "text/plain": [
       "5"
      ]
     },
     "execution_count": 31,
     "metadata": {},
     "output_type": "execute_result"
    }
   ],
   "source": [
    "def fibonacci_nth(n):\n",
    "    # a, b and c are used to calculate the fibonacci sequance, j is our counter\n",
    "    a, b, c, j = 1, 1, 0, 2\n",
    "    while j <  n:\n",
    "        # c gets assigned to value of a to not lose the previous element of the sequence\n",
    "        c = a\n",
    "        # applying sequence rule\n",
    "        a = a + b\n",
    "        # b is also adjusted \n",
    "        b = c\n",
    "        j += 1\n",
    "    return a\n",
    "\n",
    "fibonacci_nth(5)    "
   ]
  }
 ],
 "metadata": {
  "kernelspec": {
   "display_name": "Python 3",
   "language": "python",
   "name": "python3"
  },
  "language_info": {
   "codemirror_mode": {
    "name": "ipython",
    "version": 3
   },
   "file_extension": ".py",
   "mimetype": "text/x-python",
   "name": "python",
   "nbconvert_exporter": "python",
   "pygments_lexer": "ipython3",
   "version": "3.8.5"
  }
 },
 "nbformat": 4,
 "nbformat_minor": 4
}
